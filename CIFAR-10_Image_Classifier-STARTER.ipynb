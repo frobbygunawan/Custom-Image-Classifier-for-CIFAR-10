{
 "cells": [
  {
   "cell_type": "markdown",
   "metadata": {},
   "source": [
    "# Introduction\n",
    "\n",
    "In this project, you will build a neural network of your own design to evaluate the CIFAR-10 dataset.\n",
    "\n",
    "To meet the requirements for this project, you will need to achieve an accuracy greater than 45%. \n",
    "If you want to beat Detectocorp's algorithm, you'll need to achieve an accuracy greater than 70%. \n",
    "(Beating Detectocorp's algorithm is not a requirement for passing this project, but you're encouraged to try!)\n",
    "\n",
    "Some of the benchmark results on CIFAR-10 include:\n",
    "\n",
    "78.9% Accuracy | [Deep Belief Networks; Krizhevsky, 2010](https://www.cs.toronto.edu/~kriz/conv-cifar10-aug2010.pdf)\n",
    "\n",
    "90.6% Accuracy | [Maxout Networks; Goodfellow et al., 2013](https://arxiv.org/pdf/1302.4389.pdf)\n",
    "\n",
    "96.0% Accuracy | [Wide Residual Networks; Zagoruyko et al., 2016](https://arxiv.org/pdf/1605.07146.pdf)\n",
    "\n",
    "99.0% Accuracy | [GPipe; Huang et al., 2018](https://arxiv.org/pdf/1811.06965.pdf)\n",
    "\n",
    "98.5% Accuracy | [Rethinking Recurrent Neural Networks and other Improvements for ImageClassification; Nguyen et al., 2020](https://arxiv.org/pdf/2007.15161.pdf)\n",
    "\n",
    "Research with this dataset is ongoing. Notably, many of these networks are quite large and quite expensive to train. \n",
    "\n",
    "## Imports"
   ]
  },
  {
   "cell_type": "code",
   "execution_count": 1,
   "metadata": {},
   "outputs": [],
   "source": [
    "## This cell contains the essential imports you will need – DO NOT CHANGE THE CONTENTS! ##\n",
    "import torch\n",
    "import torch.nn as nn\n",
    "import torch.nn.functional as F\n",
    "import torch.optim as optim\n",
    "import torchvision\n",
    "import torchvision.transforms as transforms\n",
    "import matplotlib.pyplot as plt\n",
    "import numpy as np"
   ]
  },
  {
   "cell_type": "markdown",
   "metadata": {},
   "source": [
    "## Load the Dataset\n",
    "\n",
    "Specify your transforms as a list first.\n",
    "The transforms module is already loaded as `transforms`.\n",
    "\n",
    "CIFAR-10 is fortunately included in the torchvision module.\n",
    "Then, you can create your dataset using the `CIFAR10` object from `torchvision.datasets` ([the documentation is available here](https://pytorch.org/vision/stable/generated/torchvision.datasets.CIFAR10.html)).\n",
    "Make sure to specify `download=True`! \n",
    "\n",
    "Once your dataset is created, you'll also need to define a `DataLoader` from the `torch.utils.data` module for both the train and the test set."
   ]
  },
  {
   "cell_type": "code",
   "execution_count": 2,
   "metadata": {},
   "outputs": [
    {
     "name": "stdout",
     "output_type": "stream",
     "text": [
      "Files already downloaded and verified\n",
      "(50000, 32, 32, 3)\n",
      "[ 125.30691805  122.95039414  113.86538318]\n",
      "[ 62.99321928  62.08870764  66.70489964]\n"
     ]
    }
   ],
   "source": [
    "# Calculating the mean and standard deviation for normalization\n",
    "# (https://discuss.pytorch.org/t/normalization-in-the-mnist-example/457/12)\n",
    "import os \n",
    "cur_dir = os.getcwd()\n",
    "\n",
    "traindata_transform = transforms.Compose([transforms.ToTensor()])\n",
    "train_dataset = torchvision.datasets.CIFAR10(root=cur_dir, train=True, download=True, transform=traindata_transform)\n",
    "print(train_dataset.train_data.shape)\n",
    "print(train_dataset.train_data.mean(axis=(0,1,2)))\n",
    "print(train_dataset.train_data.std(axis=(0,1,2)))\n",
    "\n",
    "#print(train_dataset[0])"
   ]
  },
  {
   "cell_type": "code",
   "execution_count": 3,
   "metadata": {},
   "outputs": [
    {
     "name": "stdout",
     "output_type": "stream",
     "text": [
      "Files already downloaded and verified\n",
      "Files already downloaded and verified\n"
     ]
    }
   ],
   "source": [
    "# Adding the cuda agnostic\n",
    "device = torch.device('cuda' if torch.cuda.is_available() else 'cpu')\n",
    "\n",
    "# Define transforms \n",
    "traindata_transform = transforms.Compose([transforms.ColorJitter(brightness=0.2, contrast=0.2, saturation=0.2, hue=0.2),\n",
    "                                          transforms.ToTensor(),\n",
    "                                          transforms.Normalize([0.49139968, 0.48215841, 0.44653091],\n",
    "                                                               [0.24703223, 0.24348513, 0.26158784])\n",
    "                                        ])\n",
    "\n",
    "testdata_transform = transforms.Compose([transforms.ToTensor(), \n",
    "                                         transforms.Normalize([0.49139968, 0.48215841, 0.44653091],\n",
    "                                                              [0.24703223, 0.24348513, 0.26158784]),\n",
    "                                        ])\n",
    "\n",
    "# Create training set and define training dataloader\n",
    "train_dataset = torchvision.datasets.CIFAR10(cur_dir, train=True, transform=traindata_transform, download=True)\n",
    "trainloader = torch.utils.data.DataLoader(train_dataset, batch_size=64, shuffle=True)\n",
    "\n",
    "# Create test set and define test dataloader\n",
    "test_dataset = torchvision.datasets.CIFAR10(cur_dir, train=False, transform=testdata_transform, download=True)\n",
    "testloader = torch.utils.data.DataLoader(test_dataset, batch_size=64, shuffle=True)\n",
    "\n",
    "# The 10 classes in the dataset\n",
    "classes = ('plane', 'car', 'bird', 'cat', 'deer', 'dog', 'frog', 'horse', 'ship', 'truck')"
   ]
  },
  {
   "cell_type": "markdown",
   "metadata": {},
   "source": [
    "## Explore the Dataset\n",
    "Using matplotlib, numpy, and torch, explore the dimensions of your data.\n",
    "\n",
    "You can view images using the `show5` function defined below – it takes a data loader as an argument.\n",
    "Remember that normalized images will look really weird to you! You may want to try changing your transforms to view images.\n",
    "Typically using no transforms other than `toTensor()` works well for viewing – but not as well for training your network.\n",
    "If `show5` doesn't work, go back and check your code for creating your data loaders and your training/test sets."
   ]
  },
  {
   "cell_type": "code",
   "execution_count": 4,
   "metadata": {},
   "outputs": [],
   "source": [
    "def show5(img_loader):\n",
    "    dataiter = iter(img_loader)\n",
    "    \n",
    "    batch = next(dataiter)\n",
    "    labels = batch[1][0:5]\n",
    "    images = batch[0][0:5]\n",
    "    for i in range(5):\n",
    "        print(classes[labels[i]])\n",
    "    \n",
    "        image = images[i].numpy()\n",
    "        plt.imshow(np.rot90(image.T, k=3))\n",
    "        plt.show()"
   ]
  },
  {
   "cell_type": "code",
   "execution_count": 5,
   "metadata": {},
   "outputs": [
    {
     "name": "stdout",
     "output_type": "stream",
     "text": [
      "The tensor has the shape of torch.Size([64, 3, 32, 32])\n"
     ]
    },
    {
     "data": {
      "image/png": "[encoded data removed]",
      "text/plain": [
       "<matplotlib.figure.Figure at 0x7fb8a20b5cf8>"
      ]
     },
     "metadata": {
      "needs_background": "light"
     },
     "output_type": "display_data"
    }
   ],
   "source": [
    "# Explore data\n",
    "#show5(testloader)\n",
    "img, lbl = next(iter(testloader))\n",
    "transform = transforms.ToPILImage()\n",
    "plt.imshow(transform(img[0]))\n",
    "\n",
    "print(f\"The tensor has the shape of {next(iter(trainloader))[0].shape}\")"
   ]
  },
  {
   "cell_type": "markdown",
   "metadata": {},
   "source": [
    "## Build your Neural Network\n",
    "Using the layers in `torch.nn` (which has been imported as `nn`) and the `torch.nn.functional` module (imported as `F`), construct a neural network based on the parameters of the dataset. \n",
    "Feel free to construct a model of any architecture – feedforward, convolutional, or even something more advanced!"
   ]
  },
  {
   "cell_type": "code",
   "execution_count": 6,
   "metadata": {},
   "outputs": [
    {
     "data": {
      "text/plain": [
       "Classifier(\n",
       "  (main): Sequential(\n",
       "    (0): Conv2d(3, 20, kernel_size=(5, 5), stride=(1, 1), padding=(1, 1))\n",
       "    (1): ReLU()\n",
       "    (2): MaxPool2d(kernel_size=(2, 2), stride=(2, 2), padding=0, dilation=1, ceil_mode=False)\n",
       "    (3): Conv2d(20, 50, kernel_size=(5, 5), stride=(1, 1), padding=(1, 1))\n",
       "    (4): ReLU()\n",
       "    (5): MaxPool2d(kernel_size=(2, 2), stride=(2, 2), padding=0, dilation=1, ceil_mode=False)\n",
       "    (6): Flatten()\n",
       "    (7): Linear(in_features=1800, out_features=512, bias=True)\n",
       "    (8): ReLU()\n",
       "    (9): Linear(in_features=512, out_features=256, bias=True)\n",
       "    (10): ReLU()\n",
       "    (11): Linear(in_features=256, out_features=128, bias=True)\n",
       "    (12): ReLU()\n",
       "    (13): Linear(in_features=128, out_features=10, bias=True)\n",
       "    (14): LogSoftmax()\n",
       "  )\n",
       ")"
      ]
     },
     "execution_count": 6,
     "metadata": {},
     "output_type": "execute_result"
    }
   ],
   "source": [
    "n_input = next(iter(trainloader))[0].shape[2] ** 2\n",
    "n_hidden1 = 512\n",
    "n_hidden2 = 256\n",
    "n_hidden3 = 128\n",
    "n_output = 10\n",
    "\n",
    "# flatten inside sequential https://stackoverflow.com/questions/53953460/how-to-flatten-input-in-nn-sequential-in-pytorch\n",
    "class Flatten(torch.nn.Module):\n",
    "    def forward(self, x):\n",
    "        batch_size = x.shape[0]\n",
    "        return x.view(batch_size, -1)\n",
    "\n",
    "class Classifier(nn.Module):\n",
    "    def __init__(self):\n",
    "        super().__init__()\n",
    "       \n",
    "        # the convolutional + pooling layer is adapted from the LeNet algorithm\n",
    "        # https://pyimagesearch.com/2021/07/19/pytorch-training-your-first-convolutional-neural-network-cnn/\n",
    "        self.main = nn.Sequential(\n",
    "            nn.Conv2d(in_channels=3, out_channels=20, kernel_size=(5,5), padding=1),\n",
    "            nn.ReLU(),\n",
    "            nn.MaxPool2d(kernel_size=(2,2), stride=(2,2)),\n",
    "            nn.Conv2d(in_channels=20, out_channels=50, kernel_size=(5,5), padding=1),\n",
    "            nn.ReLU(),\n",
    "            nn.MaxPool2d(kernel_size=(2,2), stride=(2,2)),\n",
    "            Flatten(),\n",
    "            nn.Linear(1800, n_hidden1),\n",
    "            nn.ReLU(),\n",
    "            nn.Linear(n_hidden1, n_hidden2),\n",
    "            nn.ReLU(),\n",
    "            nn.Linear(n_hidden2, n_hidden3),\n",
    "            nn.ReLU(),\n",
    "            nn.Linear(n_hidden3, n_output),\n",
    "            nn.LogSoftmax(dim=1)\n",
    "        )\n",
    "        \n",
    "    def forward(self, x):\n",
    "        out = self.main(x)\n",
    "        \n",
    "        return out\n",
    "\n",
    "model = Classifier()\n",
    "\n",
    "model.to(device)"
   ]
  },
  {
   "cell_type": "markdown",
   "metadata": {},
   "source": [
    "Specify a loss function and an optimizer, and instantiate the model.\n",
    "\n",
    "If you use a less common loss function, please note why you chose that loss function in a comment."
   ]
  },
  {
   "cell_type": "code",
   "execution_count": 7,
   "metadata": {},
   "outputs": [],
   "source": [
    "criterion = nn.NLLLoss()\n",
    "\n",
    "optimizer = optim.SGD(model.parameters(), lr=0.005, momentum=0.9) # to avoid the local minima problem"
   ]
  },
  {
   "cell_type": "markdown",
   "metadata": {},
   "source": [
    "## Running your Neural Network\n",
    "Use whatever method you like to train your neural network, and ensure you record the average loss at each epoch. \n",
    "Don't forget to use `torch.device()` and the `.to()` method for both your model and your data if you are using GPU!\n",
    "\n",
    "If you want to print your loss during each epoch, you can use the `enumerate` function and print the loss after a set number of batches. 250 batches works well for most people!"
   ]
  },
  {
   "cell_type": "code",
   "execution_count": 8,
   "metadata": {},
   "outputs": [
    {
     "name": "stdout",
     "output_type": "stream",
     "text": [
      "Epoch 1/10.. Train loss: 2.270.. Test loss: 2.091.. Test accuracy: 0.247\n",
      "Epoch 1/10.. Train loss: 1.938.. Test loss: 1.747.. Test accuracy: 0.368\n",
      "Epoch 1/10.. Train loss: 1.705.. Test loss: 1.542.. Test accuracy: 0.434\n",
      "Epoch 2/10.. Train loss: 1.550.. Test loss: 1.505.. Test accuracy: 0.449\n",
      "Epoch 2/10.. Train loss: 1.470.. Test loss: 1.360.. Test accuracy: 0.507\n",
      "Epoch 2/10.. Train loss: 1.373.. Test loss: 1.252.. Test accuracy: 0.550\n",
      "Epoch 3/10.. Train loss: 1.281.. Test loss: 1.189.. Test accuracy: 0.575\n",
      "Epoch 3/10.. Train loss: 1.211.. Test loss: 1.116.. Test accuracy: 0.608\n",
      "Epoch 3/10.. Train loss: 1.154.. Test loss: 1.060.. Test accuracy: 0.632\n",
      "Epoch 4/10.. Train loss: 1.058.. Test loss: 1.015.. Test accuracy: 0.648\n",
      "Epoch 4/10.. Train loss: 1.024.. Test loss: 1.007.. Test accuracy: 0.649\n",
      "Epoch 4/10.. Train loss: 0.989.. Test loss: 0.977.. Test accuracy: 0.653\n",
      "Epoch 5/10.. Train loss: 0.919.. Test loss: 0.947.. Test accuracy: 0.676\n",
      "Epoch 5/10.. Train loss: 0.861.. Test loss: 0.903.. Test accuracy: 0.688\n",
      "Epoch 5/10.. Train loss: 0.860.. Test loss: 0.903.. Test accuracy: 0.695\n",
      "Epoch 6/10.. Train loss: 0.800.. Test loss: 0.994.. Test accuracy: 0.667\n",
      "Epoch 6/10.. Train loss: 0.738.. Test loss: 0.866.. Test accuracy: 0.705\n",
      "Epoch 6/10.. Train loss: 0.748.. Test loss: 0.859.. Test accuracy: 0.711\n",
      "Epoch 7/10.. Train loss: 0.700.. Test loss: 0.931.. Test accuracy: 0.692\n",
      "Epoch 7/10.. Train loss: 0.620.. Test loss: 0.885.. Test accuracy: 0.713\n",
      "Epoch 7/10.. Train loss: 0.619.. Test loss: 0.876.. Test accuracy: 0.708\n",
      "Epoch 8/10.. Train loss: 0.623.. Test loss: 0.911.. Test accuracy: 0.716\n",
      "Epoch 8/10.. Train loss: 0.496.. Test loss: 0.906.. Test accuracy: 0.715\n",
      "Epoch 8/10.. Train loss: 0.530.. Test loss: 0.933.. Test accuracy: 0.708\n",
      "Epoch 8/10.. Train loss: 0.555.. Test loss: 0.888.. Test accuracy: 0.720\n",
      "Epoch 9/10.. Train loss: 0.402.. Test loss: 1.013.. Test accuracy: 0.708\n",
      "Epoch 9/10.. Train loss: 0.429.. Test loss: 0.956.. Test accuracy: 0.712\n",
      "Epoch 9/10.. Train loss: 0.457.. Test loss: 0.967.. Test accuracy: 0.714\n",
      "Epoch 10/10.. Train loss: 0.324.. Test loss: 1.022.. Test accuracy: 0.720\n",
      "Epoch 10/10.. Train loss: 0.345.. Test loss: 1.077.. Test accuracy: 0.705\n",
      "Epoch 10/10.. Train loss: 0.371.. Test loss: 1.074.. Test accuracy: 0.702\n"
     ]
    }
   ],
   "source": [
    "num_epoch = 10\n",
    "print_on_batch = 250\n",
    "running_loss = 0\n",
    "steps = 0\n",
    "\n",
    "train_loss = 0\n",
    "train_loss_records = []\n",
    "validation_loss_records = []\n",
    "accuracy_records = []\n",
    "\n",
    "for epoch in range(num_epoch):\n",
    "    for images, labels in trainloader:\n",
    "        steps += 1\n",
    "            \n",
    "        images = images.to(device)\n",
    "        labels = labels.to(device)\n",
    "        \n",
    "        optimizer.zero_grad()\n",
    "        \n",
    "        output = model(images)\n",
    "        loss = criterion(output, labels)\n",
    "        loss.backward()\n",
    "        optimizer.step()\n",
    "        \n",
    "        running_loss += loss.item()\n",
    "        train_loss += loss.item()\n",
    "        \n",
    "        if steps % print_on_batch == 0:\n",
    "            test_loss = 0\n",
    "            accuracy = 0\n",
    "            \n",
    "            model.eval()\n",
    "            with torch.no_grad():\n",
    "                for images, labels in testloader:\n",
    "                    images = images.to(device)\n",
    "                    labels = labels.to(device)\n",
    "                    \n",
    "                    output = model(images)\n",
    "                    loss = criterion(output, labels)\n",
    "                    test_loss += loss.item()\n",
    "                    \n",
    "                    prob = torch.exp(output)\n",
    "                    \n",
    "                    top_prob, top_class = prob.topk(1, dim=1)\n",
    "                    equals = top_class == labels.view(top_class.shape)\n",
    "                    accuracy += torch.mean(equals.type(torch.FloatTensor)).item()\n",
    "\n",
    "            print(f\"Epoch {epoch+1}/{num_epoch}.. \"\n",
    "                  f\"Train loss: {running_loss/print_on_batch:.3f}.. \"\n",
    "                  f\"Test loss: {test_loss/len(testloader):.3f}.. \"\n",
    "                  f\"Test accuracy: {accuracy/len(testloader):.3f}\")\n",
    "            running_loss = 0\n",
    "            model.train()\n",
    "    # to record losses after each epoch\n",
    "    train_loss_records.append(train_loss/len(trainloader))\n",
    "    train_loss = 0\n",
    "\n",
    "    test_loss = 0\n",
    "    accuracy = 0\n",
    "\n",
    "    model.eval()\n",
    "    with torch.no_grad():\n",
    "        for images, labels in testloader:\n",
    "            images = images.to(device)\n",
    "            labels = labels.to(device)\n",
    "\n",
    "            output = model(images)\n",
    "            loss = criterion(output, labels)\n",
    "            test_loss += loss.item()\n",
    "\n",
    "            prob = torch.exp(output)\n",
    "\n",
    "            top_prob, top_class = prob.topk(1, dim=1)\n",
    "            equals = top_class == labels.view(top_class.shape)\n",
    "            accuracy += torch.mean(equals.type(torch.FloatTensor)).item()\n",
    "        accuracy = accuracy/len(testloader)\n",
    "        test_loss = test_loss/len(testloader)\n",
    "    model.train()\n",
    "\n",
    "    validation_loss_records.append(test_loss)\n",
    "    accuracy_records.append(accuracy)\n"
   ]
  },
  {
   "cell_type": "markdown",
   "metadata": {},
   "source": [
    "Plot the training loss (and validation loss/accuracy, if recorded)."
   ]
  },
  {
   "cell_type": "code",
   "execution_count": 9,
   "metadata": {},
   "outputs": [
    {
     "name": "stdout",
     "output_type": "stream",
     "text": [
      "[1.9543583794018191, 1.4505640102926727, 1.190584901120047, 1.0057013590469994, 0.8545663364403083, 0.738303854070661, 0.625571946391974, 0.5250140828702151, 0.4299480983668276, 0.3474542925710721]\n",
      "[1.5540546725510032, 1.2815952847717673, 1.112955020871132, 0.9694084490940069, 0.9137888353341704, 0.9617720965746861, 0.8455992728281932, 0.916528706717643, 0.9644948469985063, 1.0364687382035953]\n"
     ]
    },
    {
     "data": {
      "image/png": "[encoded data removed]",
      "text/plain": [
       "<matplotlib.figure.Figure at 0x7fb847868e10>"
      ]
     },
     "metadata": {
      "needs_background": "light"
     },
     "output_type": "display_data"
    }
   ],
   "source": [
    "plt.plot(train_loss_records, label='Training loss')\n",
    "plt.plot(validation_loss_records, label='Validation loss')\n",
    "plt.ylabel(\"Loss\")\n",
    "plt.xlabel(\"Epoch\")\n",
    "plt.legend()\n",
    "plt.show\n",
    "\n",
    "print(train_loss_records)\n",
    "print(validation_loss_records)"
   ]
  },
  {
   "cell_type": "markdown",
   "metadata": {},
   "source": [
    "## Testing your model\n",
    "Using the previously created `DataLoader` for the test set, compute the percentage of correct predictions using the highest probability prediction. \n",
    "\n",
    "If your accuracy is over 70%, great work! \n",
    "This is a hard task to exceed 70% on.\n",
    "\n",
    "If your accuracy is under 45%, you'll need to make improvements.\n",
    "Go back and check your model architecture, loss function, and optimizer to make sure they're appropriate for an image classification task."
   ]
  },
  {
   "cell_type": "code",
   "execution_count": 10,
   "metadata": {},
   "outputs": [
    {
     "name": "stdout",
     "output_type": "stream",
     "text": [
      "Test results --  Test loss: 1.035.. Test accuracy: 0.716\n"
     ]
    }
   ],
   "source": [
    "test_loss = 0\n",
    "accuracy = 0\n",
    "\n",
    "model.eval()\n",
    "with torch.no_grad():\n",
    "    for images, labels in testloader:\n",
    "        images = images.to(device)\n",
    "        labels = labels.to(device)\n",
    "\n",
    "        output = model(images)\n",
    "        loss = criterion(output, labels)\n",
    "        test_loss += loss.item()\n",
    "\n",
    "        prob = torch.exp(output)\n",
    "\n",
    "        top_prob, top_class = prob.topk(1, dim=1)\n",
    "        equals = top_class == labels.view(top_class.shape)\n",
    "        accuracy += torch.mean(equals.type(torch.FloatTensor)).item()\n",
    "\n",
    "print(\"Test results --  \"\n",
    "      f\"Test loss: {test_loss/len(testloader):.3f}.. \"\n",
    "      f\"Test accuracy: {accuracy/len(testloader):.3f}\")\n",
    "running_loss = 0\n",
    "model.train();"
   ]
  },
  {
   "cell_type": "markdown",
   "metadata": {},
   "source": [
    "## Saving your model\n",
    "Using `torch.save`, save your model for future loading."
   ]
  },
  {
   "cell_type": "code",
   "execution_count": 11,
   "metadata": {},
   "outputs": [],
   "source": [
    "# It is assumed that the network's architecture will use the same one here, so we only save the weights\n",
    "torch.save(model.state_dict(), 'checkpoint.pth')"
   ]
  },
  {
   "cell_type": "markdown",
   "metadata": {},
   "source": [
    "## Make a Recommendation\n",
    "\n",
    "Based on your evaluation, what is your recommendation on whether to build or buy? Explain your reasoning below.\n",
    "\n",
    "Some things to consider as you formulate your recommendation:\n",
    "* How does your model compare to Detectocorp's model?\n",
    "* How does it compare to the far more advanced solutions in the literature? \n",
    "* What did you do to get the accuracy you achieved? \n",
    "* Is it necessary to improve this accuracy? If so, what sort of work would be involved in improving it?"
   ]
  },
  {
   "cell_type": "markdown",
   "metadata": {},
   "source": [
    "Based on the development so far, I believe that the better option is to develop the solution in-house. The model trained here is based on [LeNet algorithm](https://en.wikipedia.org/wiki/LeNet), which is considered quite shallow compared to modern and more advanced solutions developed inrecent years. Despite that, the accuracy is comparable to the Detectocorp's model, which is about 70% for CIFAR-10. It is expected that upon application of transfer learning on the more advanced models, with fine tuning done on our specific problem (the fully connected layer), higher and better accuracy could be achieved.\n",
    "\n",
    "To achieve the 71% accuracy, the learning rate was reduced, as well as adding the depth of the fully connected layer (it was previously around 68%). It is also possible that with image augmentation to produce more inputs, this accuracy could be improved as well. Thus, the more cost-effective solution is to continue the development in-house.\n"
   ]
  },
  {
   "cell_type": "markdown",
   "metadata": {},
   "source": [
    "## Submit Your Project\n",
    "\n",
    "When you are finished editing the notebook and are ready to turn it in, simply click the **SUBMIT PROJECT** button in the lower right.\n",
    "\n",
    "Once you submit your project, we'll review your work and give you feedback if there's anything that you need to work on. If you'd like to see the exact points that your reviewer will check for when looking at your work, you can have a look over the project [rubric](https://review.udacity.com/#!/rubrics/3077/view)."
   ]
  }
 ],
 "metadata": {
  "kernelspec": {
   "display_name": "Python 3",
   "language": "python",
   "name": "python3"
  },
  "language_info": {
   "codemirror_mode": {
    "name": "ipython",
    "version": 3
   },
   "file_extension": ".py",
   "mimetype": "text/x-python",
   "name": "python",
   "nbconvert_exporter": "python",
   "pygments_lexer": "ipython3",
   "version": "3.6.3"
  }
 },
 "nbformat": 4,
 "nbformat_minor": 4
}
